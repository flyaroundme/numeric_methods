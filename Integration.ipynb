{
 "cells": [
  {
   "cell_type": "code",
   "execution_count": 1,
   "metadata": {
    "collapsed": false
   },
   "outputs": [
    {
     "name": "stdout",
     "output_type": "stream",
     "text": [
      "Populating the interactive namespace from numpy and matplotlib\n"
     ]
    }
   ],
   "source": [
    "%pylab inline\n",
    "import scipy.integrate"
   ]
  },
  {
   "cell_type": "markdown",
   "metadata": {},
   "source": [
    "# Вариант Ньютона-Котеса\n",
    "\n",
    "Рассматривается функция $$f(x) \\ = \\ 2.7cos(3.5x)e^{-\\frac{7}{3}x} \\ + \\ 4.4sin(2.5x)e^{\\frac{5}{3}x} \\ + \\ 2$$\n",
    "\n",
    "Вычисляется интеграл $$\\int_{a}^{b} \\frac{f(x)}{(x - a)^\\alpha (b - x)^\\beta} dx$$\n",
    "\n",
    "При заданных параметрах $$a = 2.8, \\ b = 4.3, \\ \\alpha = 0, \\ \\beta = \\frac{3}{7} $$\n",
    "\n",
    "То есть\n",
    "$$\\int_{2.8}^{4.3} \\frac{f(x)}{(4.3 - x)^\\frac{3}{7}} dx$$"
   ]
  },
  {
   "cell_type": "markdown",
   "metadata": {
    "collapsed": true
   },
   "source": [
    "## 1. ИКФ по трём равноотстоящим узлам\n",
    "Рассматривается весовая функция $$p(x) = (x - a)^{-\\alpha} (b - x)^{-\\beta} = (4.3 - x)^{-\\frac{3}{7}}$$\n",
    "Равноотстоящие узлы $$x_1 = a = 2.8, \\ x_2 = \\frac{a + b}{2} = 3.55, \\ x_3 = b = 4.3$$\n"
   ]
  },
  {
   "cell_type": "code",
   "execution_count": 2,
   "metadata": {
    "collapsed": false
   },
   "outputs": [
    {
     "data": {
      "text/plain": [
       "(2.8, 3.55, 4.3)"
      ]
     },
     "execution_count": 2,
     "metadata": {},
     "output_type": "execute_result"
    }
   ],
   "source": [
    "x_1 = a = 2.8\n",
    "x_3 = b = 4.3\n",
    "x_2 = (a + b) / 2\n",
    "alpha, beta = 0, 3 / 7\n",
    "n = 3\n",
    "f = lambda x: 2.7*cos(3.5*x)*(e**((-7/3)*x)) + 4.4*sin(2.5*x)*(e**((5/3)*x)) + 2\n",
    "p = lambda x: (b - x)**(-beta)\n",
    "x_1, x_2, x_3"
   ]
  },
  {
   "cell_type": "markdown",
   "metadata": {},
   "source": [
    "Вычисляются моменты весовой функции $$\\mu_j \\ = \\int_{a}^{b} p(x)x^j dx, \\ j \\ = \\ 0,1,\\ldots,\\ n - 1$$\n",
    "То есть $$\\mu_j = \\int_{2.8}^{4.3} (4.3 - x)^{-\\frac{3}{7}} x^j dx, \\ j \\ = \\ 0,1,2$$"
   ]
  },
  {
   "cell_type": "code",
   "execution_count": 3,
   "metadata": {
    "collapsed": false
   },
   "outputs": [
    {
     "data": {
      "text/plain": [
       "array([  2.20628507,   8.28359757,  31.54787073])"
      ]
     },
     "execution_count": 3,
     "metadata": {},
     "output_type": "execute_result"
    }
   ],
   "source": [
    "mu = zeros(n)\n",
    "for j in arange(n):\n",
    "    mu[j] = scipy.integrate.quad(lambda x: (x**j)*p(x), a, b)[0]\n",
    "mu"
   ]
  },
  {
   "cell_type": "markdown",
   "metadata": {},
   "source": [
    "$$\\mu_0 = 2.20628507, \\ \\mu_1 = 8.28359757, \\ \\mu_2 = 31.54787073$$\n",
    "Решается система $$\\sum\\limits_{j=1}^n A_j x_j^s \\ = \\ \\mu_s, \\ s \\ = \\ 0, 1,\\ldots,n-1$$\n",
    "В нашем случае $$\\begin{pmatrix} 1 & 1 & 1 \\\\ x_1 & x_2 & x_3 \\\\ x_1^2 & x_2^2 & x_3^2 \\end{pmatrix} \\begin{pmatrix} A_1 \\\\ A_2 \\\\ A_3 \\end{pmatrix} = \\begin{pmatrix} \\mu_0 \\\\ \\mu_1 \\\\ \\mu_2 \\end{pmatrix}$$\n"
   ]
  },
  {
   "cell_type": "code",
   "execution_count": 4,
   "metadata": {
    "collapsed": false
   },
   "outputs": [
    {
     "data": {
      "text/plain": [
       "array([ 0.17828566,  1.24799963,  0.77999977])"
      ]
     },
     "execution_count": 4,
     "metadata": {},
     "output_type": "execute_result"
    }
   ],
   "source": [
    "X = array([[1, 1, 1], [x_1, x_2, x_3], [x_1**2, x_2**2, x_3**2]])\n",
    "A = linalg.solve(X, mu)\n",
    "A"
   ]
  },
  {
   "cell_type": "markdown",
   "metadata": {},
   "source": [
    "Таким образом $$A_1 = 0.17828566, \\ A_2 = 1.24799963, \\ A_3 = 0.77999977$$\n",
    "Считается квадратурная сумма $$S = \\sum\\limits_{j=1}^n A_j \\ f(x_j)$$"
   ]
  },
  {
   "cell_type": "code",
   "execution_count": 5,
   "metadata": {
    "collapsed": false
   },
   "outputs": [
    {
     "data": {
      "text/plain": [
       "-3188.6589881082191"
      ]
     },
     "execution_count": 5,
     "metadata": {},
     "output_type": "execute_result"
    }
   ],
   "source": [
    "F = f(array([x_1, x_2, x_3])) \n",
    "S = A.dot(F)\n",
    "S"
   ]
  },
  {
   "cell_type": "markdown",
   "metadata": {},
   "source": [
    "$$S = -3188.6589881062437$$\n",
    "Вычисляется \"точное\" значение интеграла"
   ]
  },
  {
   "cell_type": "code",
   "execution_count": 6,
   "metadata": {
    "collapsed": false
   },
   "outputs": [
    {
     "data": {
      "text/plain": [
       "-3246.87592632744"
      ]
     },
     "execution_count": 6,
     "metadata": {},
     "output_type": "execute_result"
    }
   ],
   "source": [
    "precise = scipy.integrate.quad(lambda x: f(x) / (4.3 - x)**(3/7), 2.8, 4.3)[0] \n",
    "precise"
   ]
  },
  {
   "cell_type": "markdown",
   "metadata": {},
   "source": [
    "$$P = -3246.87592632744$$\n",
    "\"точная погрешность\":"
   ]
  },
  {
   "cell_type": "code",
   "execution_count": 7,
   "metadata": {
    "collapsed": false
   },
   "outputs": [
    {
     "data": {
      "text/plain": [
       "58.216938219220992"
      ]
     },
     "execution_count": 7,
     "metadata": {},
     "output_type": "execute_result"
    }
   ],
   "source": [
    "abs(S - precise)"
   ]
  },
  {
   "cell_type": "markdown",
   "metadata": {},
   "source": [
    "$$\\epsilon = 58.216938221196415$$\n",
    "Оценим методическую погрешность $$R_n \\leq \\frac{M_n}{n!} \\int_{a}^{b} \\lvert p(x)\\omega(x) \\rvert dx$$\n",
    "$$M_n \\ : \\ \\lvert f^{(n)}(x) \\rvert \\leq M_n \\ на \\ [a, b]$$\n",
    "$$\\omega (x) = (x - x_1)(x - x_2)\\cdot \\ldots \\cdot (x - x_n)$$\n",
    "Напомним, что $n = 3$"
   ]
  },
  {
   "cell_type": "code",
   "execution_count": 8,
   "metadata": {
    "collapsed": false
   },
   "outputs": [],
   "source": [
    "from sympy import *\n",
    "init_printing(use_unicode=True)"
   ]
  },
  {
   "cell_type": "code",
   "execution_count": 9,
   "metadata": {
    "collapsed": false
   },
   "outputs": [],
   "source": [
    "x = Symbol('x')\n",
    "sympy_f = Function('f')(x)\n",
    "sympy_f = 2.7*cos(3.5*x)*exp((-7/3)*x) + 4.4*sin(2.5*x)*exp((5/3)*x) + 2\n",
    "dnf = diff(sympy_f, x, n)"
   ]
  },
  {
   "cell_type": "markdown",
   "metadata": {},
   "source": [
    "Посмотрим на график $ \\ \\ f^{(n)}(x), \\ на \\ [a, b]$"
   ]
  },
  {
   "cell_type": "code",
   "execution_count": 10,
   "metadata": {
    "collapsed": false
   },
   "outputs": [
    {
     "data": {
      "image/png": "[encoded data removed]",
      "text/plain": [
       "<matplotlib.figure.Figure at 0x7fd4e9671198>"
      ]
     },
     "metadata": {},
     "output_type": "display_data"
    },
    {
     "data": {
      "text/plain": [
       "<sympy.plotting.plot.Plot at 0x7fd4e9583048>"
      ]
     },
     "execution_count": 10,
     "metadata": {},
     "output_type": "execute_result"
    }
   ],
   "source": [
    "plot(dnf, (x, a, b))"
   ]
  },
  {
   "cell_type": "markdown",
   "metadata": {},
   "source": [
    "Отсюда, можно взять в качестве $M_n$ значение $f^{(n)}(x)$ в точке $x=b=4.3$"
   ]
  },
  {
   "cell_type": "code",
   "execution_count": 11,
   "metadata": {
    "collapsed": false
   },
   "outputs": [
    {
     "data": {
      "image/png": "[encoded data removed]",
      "text/latex": [
       "$$139973.23066625$$"
      ],
      "text/plain": [
       "139973.23066625"
      ]
     },
     "execution_count": 11,
     "metadata": {},
     "output_type": "execute_result"
    }
   ],
   "source": [
    "np_dnf = lambdify(x, dnf)\n",
    "M_n = np_dnf(b)\n",
    "M_n"
   ]
  },
  {
   "cell_type": "code",
   "execution_count": 12,
   "metadata": {
    "collapsed": false
   },
   "outputs": [
    {
     "data": {
      "image/png": "[encoded data removed]",
      "text/latex": [
       "$$4973.257129901817$$"
      ],
      "text/plain": [
       "4973.257129901817"
      ]
     },
     "execution_count": 12,
     "metadata": {},
     "output_type": "execute_result"
    }
   ],
   "source": [
    "beta = 3 / 7\n",
    "omega = lambda x: (x - x_1) * (x - x_2) * (x - x_3)\n",
    "R_n_max = (M_n / 6) * scipy.integrate.quad(lambda x: abs(p(x) * omega(x)), a, b)[0]\n",
    "R_n_max"
   ]
  },
  {
   "cell_type": "markdown",
   "metadata": {},
   "source": [
    "Получается, что методическую погрешность для данного метода можем оценить только таким образом $$R_n \\ \\leq \\ 4973.257129901817, \\ ну \\ и \\ \\epsilon \\leq R_n$$"
   ]
  },
  {
   "cell_type": "markdown",
   "metadata": {},
   "source": [
    "## 2. Построение составной КФ"
   ]
  },
  {
   "cell_type": "markdown",
   "metadata": {},
   "source": [
    "Интервал интегрирования $[a, b]$ разбивается на $k$ отрезков длиной $h = \\frac{b \\ - \\ a}{k} \\ : \\ [z_{i-1}, z_i], \\ i = 1, \\ldots, k$.\n",
    "Соответственно, $z_i = a + ih, \\ i = 0, \\ldots, k$.\n",
    "\n",
    "На каждом отрезке $[z_{i-1}, z_i], \\ i = 1, \\ldots, k$ применяется малая ИКФ по трём равноотстоящим узлам.\n",
    "\n",
    "Результаты применения малой ИКФ по всем отрезкам суммируются."
   ]
  },
  {
   "cell_type": "code",
   "execution_count": 13,
   "metadata": {
    "collapsed": false
   },
   "outputs": [
    {
     "name": "stdout",
     "output_type": "stream",
     "text": [
      "Populating the interactive namespace from numpy and matplotlib\n"
     ]
    },
    {
     "name": "stderr",
     "output_type": "stream",
     "text": [
      "WARNING: pylab import has clobbered these variables: ['Polygon', 'tanh', 'det', 'cos', 'test', 'interactive', 'sqrt', 'take', 'f', 'sin', 'poly', 'eye', 'prod', 'flatten', 'source', 'gamma', 'roots', 'multinomial', 'exp', 'seterr', 'plot', 'reshape', 'zeros', 'nan', 'tan', 'log', 'Circle', 'mod', 'trunc', 'product', 'add', 'cbrt', 'solve', 'sign', 'vectorize', 'ones', 'pi', 'conjugate', 'diag', 'trace', 'beta', 'floor', 'power', 'sinc', 'cosh', 'plotting', 'invert', 'var', 'binomial', 'transpose', 'diff', 'sinh']\n",
      "`%matplotlib` prevents importing * from pylab and numpy\n"
     ]
    }
   ],
   "source": [
    "# подготовительные процедуры - переинициализация\n",
    "%pylab inline\n",
    "import scipy.integrate\n",
    "alpha, beta = 0, 3 / 7\n",
    "a, b = 2.8, 4.3\n",
    "f = lambda x: 2.7*cos(3.5*x)*(e**((-7/3)*x)) + 4.4*sin(2.5*x)*(e**((5/3)*x)) + 2\n",
    "p = lambda x: (b - x)**(-beta)"
   ]
  },
  {
   "cell_type": "code",
   "execution_count": 14,
   "metadata": {
    "collapsed": true
   },
   "outputs": [],
   "source": [
    "# малая трёхточечная ИКФ\n",
    "def little_interpolation_sum(a, b):\n",
    "    n = 3\n",
    "    x_1, x_2, x_3 = a, (a + b) / 2, b\n",
    "    mu = zeros(n)\n",
    "    for j in arange(n):\n",
    "        mu[j] = scipy.integrate.quad(lambda x: (x**j)*p(x), a, b)[0]\n",
    "    X = array([[1, 1, 1], [x_1, x_2, x_3], [x_1**2, x_2**2, x_3**2]])\n",
    "    A = linalg.solve(X, mu)\n",
    "    F = f(array([x_1, x_2, x_3])) \n",
    "    S = A.dot(F)\n",
    "    return S"
   ]
  },
  {
   "cell_type": "code",
   "execution_count": 15,
   "metadata": {
    "collapsed": false
   },
   "outputs": [],
   "source": [
    "# деление интервала интегрирования на k отрезков\n",
    "def interval_partition(a, b, k):\n",
    "    h = (b - a) / k\n",
    "    return array([(a + i * h) for i in range(0, int(k) + 1)])"
   ]
  },
  {
   "cell_type": "code",
   "execution_count": 16,
   "metadata": {
    "collapsed": false
   },
   "outputs": [],
   "source": [
    "# деление интервала\n",
    "def complex_quad_formula(a, b, k):\n",
    "    parts = interval_partition(a, b, k)\n",
    "    s = 0\n",
    "    for i in range(0, k):\n",
    "        s += little_interpolation_sum(parts[i], parts[i + 1])\n",
    "    return s"
   ]
  },
  {
   "cell_type": "markdown",
   "metadata": {},
   "source": [
    "В качестве примера, применим составную ИКФ с 10 отрезками"
   ]
  },
  {
   "cell_type": "code",
   "execution_count": 17,
   "metadata": {
    "collapsed": false
   },
   "outputs": [
    {
     "data": {
      "image/png": "[encoded data removed]",
      "text/latex": [
       "$$\\left ( -3246.47869561, \\quad -3246.87592632744, \\quad 0.397230715717\\right )$$"
      ],
      "text/plain": [
       "(-3246.47869561, -3246.87592632744, 0.397230715717)"
      ]
     },
     "execution_count": 17,
     "metadata": {},
     "output_type": "execute_result"
    }
   ],
   "source": [
    "c_q = complex_quad_formula(a, b, 10)\n",
    "c_q, precise, abs(c_q - precise)"
   ]
  },
  {
   "cell_type": "markdown",
   "metadata": {},
   "source": [
    "Последнее число - \"точная погрешность\" показывает, что результат однозначно лучше, чем в предыдущем пункте. Но нам требуется добиться точности в $\\epsilon \\ = \\ 10^{-6}$\n",
    "\n",
    "Ну, например:"
   ]
  },
  {
   "cell_type": "code",
   "execution_count": 18,
   "metadata": {
    "collapsed": false
   },
   "outputs": [
    {
     "data": {
      "image/png": "[encoded data removed]",
      "text/latex": [
       "$$\\left ( -3246.8759267, \\quad -3246.87592632744, \\quad 3.75271611119e-07\\right )$$"
      ],
      "text/plain": [
       "(-3246.8759267, -3246.87592632744, 3.75271611119e-07)"
      ]
     },
     "execution_count": 18,
     "metadata": {},
     "output_type": "execute_result"
    }
   ],
   "source": [
    "c_q = complex_quad_formula(a, b, 911)\n",
    "c_q, precise, abs(c_q - precise)"
   ]
  },
  {
   "cell_type": "markdown",
   "metadata": {},
   "source": [
    "Реализуем правило Эйткена для оценки скорости сходимости метода и выбора оптимального числа отрезков разбиения:"
   ]
  },
  {
   "cell_type": "code",
   "execution_count": 19,
   "metadata": {
    "collapsed": true
   },
   "outputs": [],
   "source": [
    "def aitken(accuracy, a, b):\n",
    "    q, H_1 = 2, 2\n",
    "    H_2 = H_1 * q\n",
    "    H_3 = H_2 * q\n",
    "    S_H_1, S_H_2, S_H_3 = complex_quad_formula(a, b, H_1), complex_quad_formula(a, b, H_2), complex_quad_formula(a, b, H_3)\n",
    "    S = array([S_H_1, S_H_2, S_H_3])\n",
    "    m = 0\n",
    "    m_next = log(abs((S_H_1 - S_H_2) / (S_H_2 - S_H_3))) / log(q)\n",
    "    cnt = 1\n",
    "    while (abs(m - m_next) > accuracy):\n",
    "        H_2 = H_3\n",
    "        H_3 = H_3 * q\n",
    "        S_H_1 = S_H_2\n",
    "        S_H_2 = S_H_3\n",
    "        S_H_3 = complex_quad_formula(a, b, H_3)\n",
    "        S = array(S.tolist() + [S_H_3])\n",
    "        m = m_next\n",
    "        m_next = log(abs((S_H_1 - S_H_2) / (S_H_2 - S_H_3))) / log(q)\n",
    "        cnt += 1\n",
    "    H = H_2\n",
    "    return m_next, H, S"
   ]
  },
  {
   "cell_type": "code",
   "execution_count": 20,
   "metadata": {
    "collapsed": false
   },
   "outputs": [
    {
     "data": {
      "text/plain": [
       "(3.4847453216693274,\n",
       " 128,\n",
       " array([-3196.73094537, -3239.44554994, -3246.04716774, -3246.79390187,\n",
       "        -3246.86828022, -3246.87523915, -3246.87586513, -3246.87592105]))"
      ]
     },
     "execution_count": 20,
     "metadata": {},
     "output_type": "execute_result"
    }
   ],
   "source": [
    "aitken(0.02, a, b)"
   ]
  },
  {
   "cell_type": "markdown",
   "metadata": {},
   "source": [
    "К сожалению, при попытке достичь точности, большей, чем $0,02$, процесс выполняется очень долго (ни разу не смог зафиксировать окончание процесса)"
   ]
  },
  {
   "cell_type": "code",
   "execution_count": 21,
   "metadata": {
    "collapsed": false
   },
   "outputs": [
    {
     "data": {
      "image/png": "[encoded data removed]",
      "text/latex": [
       "$$\\left ( -3246.87586513, \\quad -3246.87592632744, \\quad 6.11949899394e-05\\right )$$"
      ],
      "text/plain": [
       "(-3246.87586513, -3246.87592632744, 6.11949899394e-05)"
      ]
     },
     "execution_count": 21,
     "metadata": {},
     "output_type": "execute_result"
    }
   ],
   "source": [
    "SS = complex_quad_formula(a, b, 128)\n",
    "SS, precise, abs(SS - precise)"
   ]
  },
  {
   "cell_type": "markdown",
   "metadata": {},
   "source": [
    "Реализуем метод Ричардсона для оценки методической погрешности"
   ]
  },
  {
   "cell_type": "code",
   "execution_count": 22,
   "metadata": {
    "collapsed": false
   },
   "outputs": [],
   "source": [
    "def richardson(accuracy, a, b):\n",
    "    m, H, s = aitken(0.02, a, b)\n",
    "    len_H = abs(a - b) / H\n",
    "    Hstack = array([2 * len_H, len_H])\n",
    "    A = array([[1, -(len_H * 2)**m], [1, -len_H **m]])\n",
    "    B = array([s[len(s) - 4], s[len(s) - 3]])\n",
    "    x = linalg.solve(A, B)\n",
    "    cnt = 2\n",
    "    while(x[-1] * (Hstack[-1]**m) > accuracy):\n",
    "        cnt = cnt - 1\n",
    "        H = H * 2\n",
    "        len_H = abs(a - b) / H\n",
    "        Hstack = array(Hstack.tolist() + [len_H])\n",
    "        if cnt >= 1:\n",
    "            B = array(B.tolist() + [s[len(s) - cnt - 1]])\n",
    "        else:\n",
    "            B = array(B.tolist() + [complex_quad_formula(a, b, H)])\n",
    "        L = len(A)\n",
    "        A = zeros((L + 1, L + 1))\n",
    "        for i in range(0, L + 1):\n",
    "            A[i][0] = 1\n",
    "        for i in range(0, L):\n",
    "            for j in range(1, L + 1):\n",
    "                A[i][j] = -(Hstack[i]**(m + (j - 1)))\n",
    "        x = linalg.solve(A, B)\n",
    "    dim = len(A)\n",
    "    intt = B[-1]\n",
    "    return dim, intt, m"
   ]
  },
  {
   "cell_type": "code",
   "execution_count": 23,
   "metadata": {
    "collapsed": false
   },
   "outputs": [
    {
     "data": {
      "image/png": "[encoded data removed]",
      "text/latex": [
       "$$\\left ( 2, \\quad -3246.87523915, \\quad 3.48474532167\\right )$$"
      ],
      "text/plain": [
       "(2, -3246.87523915, 3.48474532167)"
      ]
     },
     "execution_count": 23,
     "metadata": {},
     "output_type": "execute_result"
    }
   ],
   "source": [
    "richardson(1e-6, a, b)"
   ]
  },
  {
   "cell_type": "code",
   "execution_count": null,
   "metadata": {
    "collapsed": true
   },
   "outputs": [],
   "source": []
  }
 ],
 "metadata": {
  "kernelspec": {
   "display_name": "Python 3",
   "language": "python",
   "name": "python3"
  },
  "language_info": {
   "codemirror_mode": {
    "name": "ipython",
    "version": 3
   },
   "file_extension": ".py",
   "mimetype": "text/x-python",
   "name": "python",
   "nbconvert_exporter": "python",
   "pygments_lexer": "ipython3",
   "version": "3.5.1"
  }
 },
 "nbformat": 4,
 "nbformat_minor": 0
}
